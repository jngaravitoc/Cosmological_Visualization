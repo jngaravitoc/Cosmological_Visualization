{
 "metadata": {
  "name": "Visualizing_the_LG"
 },
 "nbformat": 3,
 "nbformat_minor": 0,
 "worksheets": [
  {
   "cells": [
    {
     "cell_type": "code",
     "collapsed": false,
     "input": [
      "import numpy as np\n",
      "import matplotlib.pyplot as plt\n",
      "import sphviewer\n"
     ],
     "language": "python",
     "metadata": {},
     "outputs": [],
     "prompt_number": 2
    },
    {
     "cell_type": "code",
     "collapsed": false,
     "input": [
      "data = np.loadtxt(\"../DwarfAssociations/code/HackFOF/src/HR-data.txt\")\n",
      "pos = np.zeros([3,len(data)], dtype=np.float32)\n",
      "pos[0,:] = data[:,0]\n",
      "pos[1,:] = data[:,1]\n",
      "pos[2,:] = data[:,2]\n",
      "mass = data[:,6]"
     ],
     "language": "python",
     "metadata": {},
     "outputs": [],
     "prompt_number": 3
    },
    {
     "cell_type": "code",
     "collapsed": false,
     "input": [
      "Particles = sphviewer.Particles(pos,mass, nb=4)\n",
      "h = Particles.get_hsml()\n",
      "print np.amax(h), np.amin(h)"
     ],
     "language": "python",
     "metadata": {},
     "outputs": [
      {
       "output_type": "stream",
       "stream": "stdout",
       "text": [
        "1.94796685362 0.014406573542\n"
       ]
      }
     ],
     "prompt_number": 4
    },
    {
     "cell_type": "code",
     "collapsed": false,
     "input": [
      "print np.amax(mass), np.amin(mass)"
     ],
     "language": "python",
     "metadata": {},
     "outputs": [
      {
       "output_type": "stream",
       "stream": "stdout",
       "text": [
        "793.235 0.023868\n"
       ]
      }
     ],
     "prompt_number": 123
    },
    {
     "cell_type": "code",
     "collapsed": false,
     "input": [
      "histo = plt.hist(np.log10(mass))\n",
      "plt.show()"
     ],
     "language": "python",
     "metadata": {},
     "outputs": [],
     "prompt_number": 129
    },
    {
     "cell_type": "code",
     "collapsed": false,
     "input": [
      "print pos"
     ],
     "language": "python",
     "metadata": {},
     "outputs": [
      {
       "output_type": "stream",
       "stream": "stdout",
       "text": [
        "[[ 21.13954544  22.01056099  19.97672844 ...,  21.7481823   16.65080261\n",
        "   25.16775131]\n",
        " [ 33.53905869  33.63487625  32.30134964 ...,  30.92758369  31.47756386\n",
        "   33.30613327]\n",
        " [ 37.46012115  29.97286034  28.83912849 ...,  38.01463318  36.69070053\n",
        "   33.10584259]]\n"
       ]
      }
     ],
     "prompt_number": 38
    },
    {
     "cell_type": "code",
     "collapsed": false,
     "input": [
      "Scene = sphviewer.Scene(Particles)"
     ],
     "language": "python",
     "metadata": {},
     "outputs": [],
     "prompt_number": 5
    },
    {
     "cell_type": "code",
     "collapsed": false,
     "input": [
      "Render = sphviewer.Render(Scene)"
     ],
     "language": "python",
     "metadata": {},
     "outputs": [],
     "prompt_number": 6
    },
    {
     "cell_type": "code",
     "collapsed": false,
     "input": [
      "camera = Scene.Camera.get_params()\n",
      "Scene.Camera.get_params()\n"
     ],
     "language": "python",
     "metadata": {},
     "outputs": [
      {
       "output_type": "pyout",
       "prompt_number": 9,
       "text": [
        "{'extent': None,\n",
        " 'p': 0,\n",
        " 'r': 'infinity',\n",
        " 'roll': 0,\n",
        " 't': 0,\n",
        " 'x': 21.940006256103516,\n",
        " 'xsize': 500,\n",
        " 'y': 32.649765014648438,\n",
        " 'ysize': 500,\n",
        " 'z': 33.172328948974609,\n",
        " 'zoom': 1}"
       ]
      }
     ],
     "prompt_number": 9
    },
    {
     "cell_type": "code",
     "collapsed": false,
     "input": [],
     "language": "python",
     "metadata": {},
     "outputs": [],
     "prompt_number": 39
    },
    {
     "cell_type": "code",
     "collapsed": false,
     "input": [
      "for i in range(10):\n",
      "    Scene.update_camera(r='infinity', x=21.9, y=32.6, z=33.17, t=180*i/9.0)#, extent=[-20, 20, -20, 20])\n",
      "    Render = sphviewer.Render(Scene)\n",
      "    Render.set_logscale()\n",
      "    img = Render.get_image()\n",
      "    extent = Render.get_extent()\n",
      "    fig = plt.figure(1,figsize=(5,5))\n",
      "    ax1 = fig.add_subplot(111)\n",
      "    ax1.imshow(img, extent=extent, origin='lower', cmap='jet')#, vmin = 10000000, vmax=10000000000)\n",
      "    plt.show()\n"
     ],
     "language": "python",
     "metadata": {},
     "outputs": [],
     "prompt_number": 11
    },
    {
     "cell_type": "code",
     "collapsed": false,
     "input": [
      "plt.plot(pos[0,:], pos[1,:], '.', ms=1)\n",
      "plt.show()"
     ],
     "language": "python",
     "metadata": {},
     "outputs": [],
     "prompt_number": 110
    },
    {
     "cell_type": "code",
     "collapsed": false,
     "input": [
      "plt.imshow?"
     ],
     "language": "python",
     "metadata": {},
     "outputs": [],
     "prompt_number": 81
    },
    {
     "cell_type": "code",
     "collapsed": false,
     "input": [],
     "language": "python",
     "metadata": {},
     "outputs": []
    }
   ],
   "metadata": {}
  }
 ]
}